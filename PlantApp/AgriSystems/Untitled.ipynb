{
 "cells": [
  {
   "cell_type": "code",
   "execution_count": 1,
   "metadata": {},
   "outputs": [
    {
     "name": "stdout",
     "output_type": "stream",
     "text": [
      "Hello\n",
      "Hie\n",
      "<module 'posixpath' from '/home/pratyush/anaconda3/lib/python3.7/posixpath.py'>\n",
      "Hello\n",
      "Hie\n",
      "<module 'posixpath' from '/home/pratyush/anaconda3/lib/python3.7/posixpath.py'>\n",
      "Watching for file changes with StatReloader\n",
      "Performing system checks...\n",
      "\n",
      "System check identified no issues (0 silenced).\n",
      "November 15, 2020 - 10:58:32\n",
      "Django version 3.0.2, using settings 'AgriSystems.settings'\n",
      "Starting development server at http://127.0.0.1:8000/\n",
      "Quit the server with CONTROL-C.\n",
      "Not Found: /\n",
      "[15/Nov/2020 10:59:16] \u001b[33m\"GET / HTTP/1.1\" 404 2037\u001b[0m\n",
      "[15/Nov/2020 10:59:29] \u001b[m\"GET /prediction/upload/ HTTP/1.1\" 200 5540\u001b[0m\n",
      "[15/Nov/2020 10:59:48] \u001b[m\"GET /prediction/upload/ HTTP/1.1\" 200 5540\u001b[0m\n",
      "^C\n"
     ]
    }
   ],
   "source": [
    "!python manage.py runserver"
   ]
  },
  {
   "cell_type": "code",
   "execution_count": 2,
   "metadata": {},
   "outputs": [
    {
     "ename": "NameError",
     "evalue": "name 'io' is not defined",
     "output_type": "error",
     "traceback": [
      "\u001b[0;31m---------------------------------------------------------------------------\u001b[0m",
      "\u001b[0;31mNameError\u001b[0m                                 Traceback (most recent call last)",
      "\u001b[0;32m<ipython-input-2-8596f3462286>\u001b[0m in \u001b[0;36m<module>\u001b[0;34m\u001b[0m\n\u001b[0;32m----> 1\u001b[0;31m \u001b[0mio\u001b[0m\u001b[0;34m\u001b[0m\u001b[0;34m\u001b[0m\u001b[0m\n\u001b[0m",
      "\u001b[0;31mNameError\u001b[0m: name 'io' is not defined"
     ]
    }
   ],
   "source": []
  },
  {
   "cell_type": "code",
   "execution_count": null,
   "metadata": {},
   "outputs": [],
   "source": []
  }
 ],
 "metadata": {
  "kernelspec": {
   "display_name": "Django Shell-Plus",
   "language": "python",
   "name": "django_extensions"
  },
  "language_info": {
   "codemirror_mode": {
    "name": "ipython",
    "version": 3
   },
   "file_extension": ".py",
   "mimetype": "text/x-python",
   "name": "python",
   "nbconvert_exporter": "python",
   "pygments_lexer": "ipython3",
   "version": "3.7.3"
  }
 },
 "nbformat": 4,
 "nbformat_minor": 2
}
